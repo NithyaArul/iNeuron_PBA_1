{
 "cells": [
  {
   "cell_type": "markdown",
   "id": "9d1c5b83",
   "metadata": {},
   "source": [
    "1.What are the two values of the Boolean data type? How do you write them?\n",
    " Boolean data type is True or False\n",
    " True = 1\n",
    " False = 0\n"
   ]
  },
  {
   "cell_type": "code",
   "execution_count": null,
   "id": "c65befaf",
   "metadata": {},
   "outputs": [],
   "source": [
    "2. What are the three different types of Boolean operators?\n",
    "\n",
    "The three basic boolean operators are:\n",
    "    AND, OR, NOT"
   ]
  },
  {
   "cell_type": "code",
   "execution_count": null,
   "id": "c082c9e1",
   "metadata": {},
   "outputs": [],
   "source": [
    "3. Make a list of each Boolean operator's truth tables (i.e. every possible combination of Boolean values for the operator and what it evaluate ).\n",
    "True = 1\n",
    "False = 0\n",
    "Truth Table for AND:\n",
    "x y = x AND y:\n",
    "1 1 = 1\n",
    "1 0 = 0\n",
    "0 1 = 0\n",
    "0 0 = 0\n",
    "\n",
    "Truth Table for OR:\n",
    "x y = x or y\n",
    "1 1 = 1\n",
    "1 0 = 1\n",
    "0 1 = 1\n",
    "0 0 = 0\n",
    "\n",
    "Truth Table for NOT\n",
    "NOT True is False\n",
    "NOT False is True\n",
    "\n",
    "0 1\n",
    "1 0\n"
   ]
  },
  {
   "cell_type": "code",
   "execution_count": null,
   "id": "d002e9fa",
   "metadata": {},
   "outputs": [],
   "source": [
    "4. What are the values of the following expressions?\n",
    "(5 > 4) and (3 == 5) : 'False'\n",
    "not (5 > 4)          : 'False'  \n",
    "(5 > 4) or (3 == 5)  : 'True'\n",
    "not ((5 > 4) or (3 == 5)) : 'False'\n",
    "(True and True) and (True == False) : 'False'\n",
    "(not False) or (not True) : 'True'"
   ]
  },
  {
   "cell_type": "code",
   "execution_count": null,
   "id": "d9765def",
   "metadata": {},
   "outputs": [],
   "source": [
    "5. What are the six comparison operators?\n",
    "\n",
    "comparison operators         Description\n",
    "      \n",
    "        ==                     equal to\n",
    "        !=                    not equal to\n",
    "        >                     greater than\n",
    "        <                     lesser than\n",
    "        >=                   greater than equal to\n",
    "        <=                   lesser than equal to"
   ]
  },
  {
   "cell_type": "code",
   "execution_count": 10,
   "id": "469512e4",
   "metadata": {},
   "outputs": [
    {
     "name": "stdout",
     "output_type": "stream",
     "text": [
      "False\n"
     ]
    },
    {
     "data": {
      "text/plain": [
       "['Nithya', 123, 'Life is sweet']"
      ]
     },
     "execution_count": 10,
     "metadata": {},
     "output_type": "execute_result"
    }
   ],
   "source": [
    "6. #How do you tell the difference between the equal to and assignment operators?Describe a condition and when you would use one.\n",
    "   #equal to ==\n",
    "   #assignment operators =\n",
    "\n",
    "#eg1: Equal to operators\n",
    "\n",
    "if(2==3):\n",
    "    print('True')\n",
    "else:\n",
    "    print('False')\n",
    "    \n",
    "#eg2: Assignment Operators \n",
    "\n",
    "a = ['Nithya', 123, 'Life is sweet']\n",
    "a    \n",
    " \n",
    "# here we have assigned a list in variable a     \n"
   ]
  },
  {
   "cell_type": "code",
   "execution_count": 12,
   "id": "6178e786",
   "metadata": {},
   "outputs": [
    {
     "name": "stdout",
     "output_type": "stream",
     "text": [
      "ham\n",
      "spam\n",
      "spam\n"
     ]
    }
   ],
   "source": [
    "# 7. Identify the three blocks in this code:\n",
    "#spam = 0\n",
    "#if spam == 10:\n",
    "#print('eggs')\n",
    "#if spam > 5:\n",
    "#print('bacon')\n",
    "#else:\n",
    "#print('ham')\n",
    "#print('spam')\n",
    "#print('spam')\n",
    "\n",
    "#accurate code:\n",
    "spam = 0\n",
    "\n",
    "if spam == 10:\n",
    "    print('eggs') #Block 1\n",
    "if spam > 5:\n",
    "    print('bacon') #Block 2\n",
    "else:\n",
    "    print('ham') #Block3\n",
    "    print('spam')\n",
    "    print('spam')\n"
   ]
  },
  {
   "cell_type": "code",
   "execution_count": null,
   "id": "c8d4951c",
   "metadata": {},
   "outputs": [],
   "source": [
    "#8. Write code that prints Hello if 1 is stored in spam, prints Howdy if 2 is stored in spam, and prints Greetings! \n",
    "#if anything else is stored in spam.\n",
    "spam = int(input('Enter a Value'))\n",
    "\n",
    "if spam ==1:\n",
    "    print('Hello')\n",
    "elif spam == 2:\n",
    "    print('Howdy')\n",
    "else:\n",
    "    print('Greetings')"
   ]
  },
  {
   "cell_type": "code",
   "execution_count": null,
   "id": "3c4aed01",
   "metadata": {},
   "outputs": [],
   "source": [
    "9.If your programme is stuck in an endless loop, what keys you’ll press?\n",
    "ctrl + c"
   ]
  },
  {
   "cell_type": "code",
   "execution_count": 7,
   "id": "1bc63b83",
   "metadata": {},
   "outputs": [
    {
     "name": "stdout",
     "output_type": "stream",
     "text": [
      "13is divisible by 13\n",
      "26is divisible by 13\n",
      "39is divisible by 13\n",
      "52is divisible by 13\n",
      "65is divisible by 13\n",
      "78is divisible by 13\n",
      "91is divisible by 13\n",
      "100is not divisible by 13\n",
      "#########################################\n",
      "13is divisible by 13\n"
     ]
    }
   ],
   "source": [
    "#10. How can you tell the difference between break and continue?\n",
    "i =0\n",
    "while i<100:\n",
    "    i+=1\n",
    "    if i % 13 ==0:\n",
    "        print(f\"{i}is divisible by 13\")\n",
    "        continue\n",
    "else:\n",
    "    print(f\"{i}is not divisible by 13\") \n",
    "print('#########################################')   \n",
    "j=0\n",
    "while j<100:\n",
    "    j+=1\n",
    "    if j % 13 ==0:\n",
    "        print(f\"{j}is divisible by 13\")\n",
    "        break\n",
    "else:\n",
    "    print(f\"{j}is not divisible by 13\")"
   ]
  },
  {
   "cell_type": "code",
   "execution_count": 6,
   "id": "8fc20eb4",
   "metadata": {},
   "outputs": [
    {
     "name": "stdout",
     "output_type": "stream",
     "text": [
      "0\n",
      "1\n",
      "2\n",
      "3\n",
      "4\n",
      "5\n",
      "6\n",
      "7\n",
      "8\n",
      "9\n",
      "######################\n",
      "0\n",
      "1\n",
      "2\n",
      "3\n",
      "4\n",
      "5\n",
      "6\n",
      "7\n",
      "8\n",
      "9\n",
      "######################\n",
      "0\n",
      "1\n",
      "2\n",
      "3\n",
      "4\n",
      "5\n",
      "6\n",
      "7\n",
      "8\n",
      "9\n",
      "######################\n",
      "The output concludes us there is no differences as in range(0,10)the upper bound is 10 so it returns the output till 9 and in range(0,10,1)the variables increases by 1 on every iteration\n"
     ]
    }
   ],
   "source": [
    "#11. In a for loop, what is the difference between range(10), range(0, 10), and range(0, 10, 1)?\n",
    "\n",
    "for i in range(10):\n",
    "    print(i)\n",
    "print('######################')\n",
    "\n",
    "for i in range(0,10):\n",
    "    print(i)\n",
    "print('######################')\n",
    "\n",
    "for i in range(0,10,1):\n",
    "    print(i)\n",
    "print('######################')\n",
    "\n",
    "print('The output concludes us there is no differences as in range(0,10)the upper bound is 10 so it returns the output till 9 and in range(0,10,1)the variables increases by 1 on every iteration')"
   ]
  },
  {
   "cell_type": "code",
   "execution_count": 10,
   "id": "f6b5549a",
   "metadata": {},
   "outputs": [
    {
     "name": "stdout",
     "output_type": "stream",
     "text": [
      "for loop\n",
      "1\n",
      "2\n",
      "3\n",
      "4\n",
      "5\n",
      "6\n",
      "7\n",
      "8\n",
      "9\n",
      "10\n",
      "while loop\n",
      "1\n",
      "2\n",
      "3\n",
      "4\n",
      "5\n",
      "6\n",
      "7\n",
      "8\n",
      "9\n",
      "10\n"
     ]
    }
   ],
   "source": [
    "#12. Write a short program that prints the numbers 1 to 10 using a for loop.\n",
    "#Then write an equivalent program that prints the numbers 1 to 10 using a while loop\n",
    "print('for loop')\n",
    "for i in range(1,11):\n",
    "    print(i)\n",
    "   \n",
    "print('while loop')\n",
    "i=1\n",
    "while (i<=10):\n",
    "    print(i)\n",
    "    i+=1\n"
   ]
  },
  {
   "cell_type": "code",
   "execution_count": null,
   "id": "b7ebed7b",
   "metadata": {},
   "outputs": [],
   "source": [
    "#13. If you had a function named bacon() inside a module named spam, how would you call it after importing spam?\n",
    "\n",
    "This function is called as spam.bacon()"
   ]
  }
 ],
 "metadata": {
  "kernelspec": {
   "display_name": "Python 3 (ipykernel)",
   "language": "python",
   "name": "python3"
  },
  "language_info": {
   "codemirror_mode": {
    "name": "ipython",
    "version": 3
   },
   "file_extension": ".py",
   "mimetype": "text/x-python",
   "name": "python",
   "nbconvert_exporter": "python",
   "pygments_lexer": "ipython3",
   "version": "3.9.7"
  }
 },
 "nbformat": 4,
 "nbformat_minor": 5
}
