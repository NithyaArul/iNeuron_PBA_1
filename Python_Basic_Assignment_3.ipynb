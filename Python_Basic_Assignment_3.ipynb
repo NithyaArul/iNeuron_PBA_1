{
 "cells": [
  {
   "cell_type": "code",
   "execution_count": null,
   "id": "10cb3b9f",
   "metadata": {},
   "outputs": [],
   "source": [
    "#1. Why are functions advantageous to have in your programs?\n",
    "- Reusability\n",
    "- Easier to update\n",
    "- Easier to read\n",
    "- Very systematic\n",
    "- Improves maintainability and scalability\n",
    "- Divide complex problem into simpler"
   ]
  },
  {
   "cell_type": "code",
   "execution_count": null,
   "id": "1c534f12",
   "metadata": {},
   "outputs": [],
   "source": [
    "#2. When does the code in a function run: when it&#39;s specified or when it&#39;s called?\n",
    "  - when we explicitly call the function   "
   ]
  },
  {
   "cell_type": "markdown",
   "id": "97c5f8f8",
   "metadata": {},
   "source": [
    "3. What statement creates a function?\n",
    "\n",
    "- def defines a function\n",
    "\n",
    "Syntax:\n",
    "    def add(a,b):\n",
    "        print(a+b)\n",
    "        return(a +b)\n",
    "##################################\n",
    "where as def is a keyword\n",
    "add is function name\n",
    "a,b is an argument\n",
    "print and return is function return statement"
   ]
  },
  {
   "cell_type": "markdown",
   "id": "9c4994a8",
   "metadata": {},
   "source": [
    "4. What is the difference between a function and a function call?\n",
    "- Function is defined or created to perform particaular task and function call is calling a defined function for the reusability or to perform a particular task"
   ]
  },
  {
   "cell_type": "markdown",
   "id": "df8db455",
   "metadata": {},
   "source": [
    "5. How many global scopes are there in a Python program? How many local scopes?\n",
    "Variables defined in the fuction body is called local scope and those defined outside have a global scope.This says local variables are accessed inside the function in which they are declared whereas global variables can be accessed throughout the program body by all the functions."
   ]
  },
  {
   "cell_type": "code",
   "execution_count": null,
   "id": "bef602fd",
   "metadata": {},
   "outputs": [],
   "source": [
    "6. What happens to variables in a local scope when the function call returns?\n",
    "-when function call returns, the local scope destroyed and the variables in it are forgotten"
   ]
  },
  {
   "cell_type": "code",
   "execution_count": null,
   "id": "c2d91c5d",
   "metadata": {},
   "outputs": [],
   "source": [
    "7. What is the concept of a return value? Is it possible to have a return value in an expression?\n",
    "-Return value is the output of any function"
   ]
  },
  {
   "cell_type": "code",
   "execution_count": null,
   "id": "c0c7a38a",
   "metadata": {},
   "outputs": [],
   "source": [
    "8. If a function does not have a return statement, what is the return value of a call to that function?\n",
    "-the return value will be none.\n"
   ]
  },
  {
   "cell_type": "code",
   "execution_count": null,
   "id": "8b6614c3",
   "metadata": {},
   "outputs": [],
   "source": [
    "9. How do you make a function variable refer to the global variable?\n",
    "- The variable referred as global variable with the assigned keyword of global"
   ]
  },
  {
   "cell_type": "code",
   "execution_count": null,
   "id": "a5c35d75",
   "metadata": {},
   "outputs": [],
   "source": [
    "10. What is the data type of None?\n",
    "- none dtype"
   ]
  },
  {
   "cell_type": "code",
   "execution_count": null,
   "id": "a07688e2",
   "metadata": {},
   "outputs": [],
   "source": [
    "11. What does the sentence import areallyourpetsnamederic do?\n",
    "-This import statement imports a module named areallyourpetsnamederic"
   ]
  },
  {
   "cell_type": "code",
   "execution_count": null,
   "id": "60f124e1",
   "metadata": {},
   "outputs": [],
   "source": [
    "12. If you had a bacon() feature in a spam module, what would you call it after importing spam?\n",
    "-spam.bacon()"
   ]
  },
  {
   "cell_type": "code",
   "execution_count": null,
   "id": "006d5dec",
   "metadata": {},
   "outputs": [],
   "source": [
    "13. What can you do to save a programme from crashing if it encounters an error?\n",
    "- Write the code in try and except statement to sustain the programme from crashing also handles the error "
   ]
  },
  {
   "cell_type": "code",
   "execution_count": null,
   "id": "422db5f8",
   "metadata": {},
   "outputs": [],
   "source": [
    "14. What is the purpose of the try clause? What is the purpose of the except clause?\n",
    "- The try block lets you test the block of code for errors whereas except block handles the possible error\n"
   ]
  }
 ],
 "metadata": {
  "kernelspec": {
   "display_name": "Python 3 (ipykernel)",
   "language": "python",
   "name": "python3"
  },
  "language_info": {
   "codemirror_mode": {
    "name": "ipython",
    "version": 3
   },
   "file_extension": ".py",
   "mimetype": "text/x-python",
   "name": "python",
   "nbconvert_exporter": "python",
   "pygments_lexer": "ipython3",
   "version": "3.9.7"
  }
 },
 "nbformat": 4,
 "nbformat_minor": 5
}
