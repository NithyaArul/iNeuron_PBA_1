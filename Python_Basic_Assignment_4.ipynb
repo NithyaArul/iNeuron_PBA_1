{
 "cells": [
  {
   "cell_type": "code",
   "execution_count": null,
   "id": "64365f80",
   "metadata": {},
   "outputs": [],
   "source": [
    "1. What exactly is []?\n",
    "- an empty List"
   ]
  },
  {
   "cell_type": "code",
   "execution_count": 1,
   "id": "b0a83602",
   "metadata": {},
   "outputs": [
    {
     "data": {
      "text/plain": [
       "[2, 4, 'hello', 8, 10]"
      ]
     },
     "execution_count": 1,
     "metadata": {},
     "output_type": "execute_result"
    }
   ],
   "source": [
    "#2. In a list of values stored in a variable called spam, how would you assign the value 'hello' as the\n",
    "#third value? (Assume [2, 4, 6, 8, 10] are in spam.)\n",
    "spam = [2,4,6,8,10]\n",
    "spam[2]='hello'\n",
    "spam"
   ]
  },
  {
   "cell_type": "markdown",
   "id": "7860fee6",
   "metadata": {},
   "source": [
    "## Let's pretend the spam includes the list ['a','b','c','d'] for the next three queries."
   ]
  },
  {
   "cell_type": "code",
   "execution_count": 8,
   "id": "e6b93902",
   "metadata": {},
   "outputs": [],
   "source": [
    "#3. What is the value of ?spam[int(int('3'* 2) / 11)]?\n",
    "- d\n",
    "- it results 33/11 = 3\n",
    "- The indices of 3 in spam list is d"
   ]
  },
  {
   "cell_type": "code",
   "execution_count": null,
   "id": "5293a38b",
   "metadata": {},
   "outputs": [],
   "source": [
    "4. What is the value of spam[-1]?\n",
    "- d"
   ]
  },
  {
   "cell_type": "code",
   "execution_count": 10,
   "id": "80abdea8",
   "metadata": {},
   "outputs": [
    {
     "data": {
      "text/plain": [
       "['a', 'b']"
      ]
     },
     "execution_count": 10,
     "metadata": {},
     "output_type": "execute_result"
    }
   ],
   "source": [
    "#5. What is the value of spam[:2]?\n",
    "#- returns all the value from 0 to 1\n",
    "spam = ['a','b','c','d']\n",
    "spam[:2]"
   ]
  },
  {
   "cell_type": "code",
   "execution_count": null,
   "id": "1ff8e13a",
   "metadata": {},
   "outputs": [],
   "source": [
    "Let's pretend bacon has the list [3.14,'cat',11,'cat' True] for the next three questions."
   ]
  },
  {
   "cell_type": "code",
   "execution_count": 15,
   "id": "85990026",
   "metadata": {},
   "outputs": [
    {
     "data": {
      "text/plain": [
       "1"
      ]
     },
     "execution_count": 15,
     "metadata": {},
     "output_type": "execute_result"
    }
   ],
   "source": [
    "#6. What is the value of bacon.index('cat')?\n",
    "bacon =[3.14,'cat',11,'cat','True']\n",
    "bacon.index('cat') #index method returns the first occurance"
   ]
  },
  {
   "cell_type": "code",
   "execution_count": 18,
   "id": "171be496",
   "metadata": {},
   "outputs": [
    {
     "data": {
      "text/plain": [
       "[3.14, 'cat', 11, 'cat', 'True', 99]"
      ]
     },
     "execution_count": 18,
     "metadata": {},
     "output_type": "execute_result"
    }
   ],
   "source": [
    "#7. How does bacon.append(99) change the look of the list value in bacon?\n",
    "#-it adds the value at the end of list\n",
    "bacon =[3.14,'cat',11,'cat','True']\n",
    "bacon.append(99)\n",
    "bacon"
   ]
  },
  {
   "cell_type": "code",
   "execution_count": 19,
   "id": "2393f40a",
   "metadata": {},
   "outputs": [
    {
     "data": {
      "text/plain": [
       "[3.14, 11, 'cat', 'True']"
      ]
     },
     "execution_count": 19,
     "metadata": {},
     "output_type": "execute_result"
    }
   ],
   "source": [
    "#8. How does bacon.remove'cat') change the look of the list in bacon?\n",
    "bacon =[3.14,'cat',11,'cat','True']\n",
    "bacon.remove('cat')\n",
    "bacon"
   ]
  },
  {
   "cell_type": "code",
   "execution_count": null,
   "id": "65ddac06",
   "metadata": {},
   "outputs": [],
   "source": [
    "9. What are the list concatenation and list replication operators?\n",
    "list concatenation adds 2 different list with + symbol\n",
    "list replication operator is *"
   ]
  },
  {
   "cell_type": "code",
   "execution_count": null,
   "id": "00ab99d0",
   "metadata": {},
   "outputs": [],
   "source": [
    "10. What is difference between the list methods append() and insert()?\n",
    "-list methods append() values at the end of the list and insert() methods will insert values anywhere in the list\n"
   ]
  },
  {
   "cell_type": "code",
   "execution_count": null,
   "id": "19a61a4c",
   "metadata": {},
   "outputs": [],
   "source": [
    "11. What are the two methods for removing items from a list?\n",
    "- del and remove() are the 2 methods to remove items from a list"
   ]
  },
  {
   "cell_type": "code",
   "execution_count": null,
   "id": "3d3599f7",
   "metadata": {},
   "outputs": [],
   "source": [
    "12. Describe how list values and string values are identical.\n",
    "-Both lists and strings can be passed to len() function, have indexes and slices, be used in for loops, be concatenated or replicated, and be used with the in and not in operators."
   ]
  },
  {
   "cell_type": "code",
   "execution_count": null,
   "id": "e7fe3e08",
   "metadata": {},
   "outputs": [],
   "source": [
    "13. What's the difference between tuples and lists\n",
    "- tuples() are immutable but indexable and sliceable\n",
    "-lists[] are mutable, indexable, sliceable\n",
    "\n"
   ]
  },
  {
   "cell_type": "code",
   "execution_count": 22,
   "id": "d5782939",
   "metadata": {},
   "outputs": [
    {
     "name": "stdout",
     "output_type": "stream",
     "text": [
      "<class 'int'>\n",
      "<class 'tuple'>\n"
     ]
    }
   ],
   "source": [
    "#14. How do you type a tuple value that only contains the integer 42?\n",
    "tup1=(42)\n",
    "tup2=(42,)\n",
    "print(type(tup1))\n",
    "print(type(tup2))"
   ]
  },
  {
   "cell_type": "code",
   "execution_count": null,
   "id": "dba349bc",
   "metadata": {},
   "outputs": [],
   "source": [
    "15. How do you get a list value's tuple form? How do you get a tuple value's list form?\n",
    "list of lists [[1,2], [3,4], [5,6]] and you want to convert it into a list of tuples [(1,2), (3,4), (5,6)] and vice versa\n"
   ]
  },
  {
   "cell_type": "code",
   "execution_count": null,
   "id": "12a4d307",
   "metadata": {},
   "outputs": [],
   "source": [
    "16. Variables that 'contain' list values are not necessarily lists themselves. Instead, what do they\n",
    "contain?\n",
    "-They contain references of list values"
   ]
  },
  {
   "cell_type": "code",
   "execution_count": null,
   "id": "26b3f556",
   "metadata": {},
   "outputs": [],
   "source": [
    "17. How do you distinguish between copy.copy() and copy.deepcopy()?\n",
    "-copy.copy() is a shallow copy_It means that any changes made to a copy of object do reflect in the original object and it stores the references of object to the original memory address.\n",
    "-copy.deepcopy() is a deep copy_It means that any changes made to a copy of a object do not reflect in the original object and it stores copies of the object value\n"
   ]
  },
  {
   "cell_type": "code",
   "execution_count": null,
   "id": "886268e0",
   "metadata": {},
   "outputs": [],
   "source": []
  }
 ],
 "metadata": {
  "kernelspec": {
   "display_name": "Python 3 (ipykernel)",
   "language": "python",
   "name": "python3"
  },
  "language_info": {
   "codemirror_mode": {
    "name": "ipython",
    "version": 3
   },
   "file_extension": ".py",
   "mimetype": "text/x-python",
   "name": "python",
   "nbconvert_exporter": "python",
   "pygments_lexer": "ipython3",
   "version": "3.9.7"
  }
 },
 "nbformat": 4,
 "nbformat_minor": 5
}
