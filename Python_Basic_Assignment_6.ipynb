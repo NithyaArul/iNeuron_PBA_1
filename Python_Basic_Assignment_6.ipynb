{
 "cells": [
  {
   "cell_type": "markdown",
   "id": "8c466510",
   "metadata": {},
   "source": [
    "1. What are escape characters, and how do you use them?\n",
    "- Escape characters represent character in string values that would otherwise be difficult or impossible to type into code. We can use backslash character to escape a single character or symbol\n",
    "There are many escape characyters to name few:\\t, \\n"
   ]
  },
  {
   "cell_type": "code",
   "execution_count": null,
   "id": "a6d2fc5d",
   "metadata": {},
   "outputs": [],
   "source": [
    "2. What do the escape characters n and t stand for?\n",
    "-\\t stands for tab \\n stands for newline"
   ]
  },
  {
   "cell_type": "code",
   "execution_count": null,
   "id": "6f0899bb",
   "metadata": {},
   "outputs": [],
   "source": [
    "3. What is the way to include backslash characters in a string?\n",
    "- \\\\ escape character will represent the backslash character in string"
   ]
  },
  {
   "cell_type": "code",
   "execution_count": 1,
   "id": "60b8fdc7",
   "metadata": {},
   "outputs": [
    {
     "data": {
      "text/plain": [
       "\"Howl's moving castle\""
      ]
     },
     "execution_count": 1,
     "metadata": {},
     "output_type": "execute_result"
    }
   ],
   "source": [
    "#4. The string \"Howl's Moving Castle\" is a correct value. Why isn't the single quote character in the\n",
    "#word Howl's not escaped a problem?\n",
    "#- The string \"Howl's Moving Castle\" is correct because it is represented in a double quote. In the single quote to rectify this we use escape characters - The string \"Howl's Moving Castle\" is correct because it is represented in a double quote. In the single quote to rectify this we use escape characters - The string \"Howl's Moving Castle\" is correct because it is represented in a double quote. In the single quote to rectify this we use escape characters \\'\n",
    "'Howl\\'s moving castle'"
   ]
  },
  {
   "cell_type": "code",
   "execution_count": null,
   "id": "b05bed40",
   "metadata": {},
   "outputs": [],
   "source": [
    " 5. How do you write a string of newlines if you don't want to use the n character?\n",
    "multiline string can be used in place of n for newlines"
   ]
  },
  {
   "cell_type": "code",
   "execution_count": null,
   "id": "b7668d62",
   "metadata": {},
   "outputs": [],
   "source": [
    "6. What are the values of the given expressions?\n",
    "'Hello, world!'[1] = 'e'\n",
    "'Hello, world!'[0:5] = 'Hello'\n",
    "'Hello, world!'[:5] = 'Hello'\n",
    "'Hello, world!'[3:] = 'lo, world!'"
   ]
  },
  {
   "cell_type": "code",
   "execution_count": 5,
   "id": "fb41a4ff",
   "metadata": {},
   "outputs": [
    {
     "data": {
      "text/plain": [
       "'lo, world!'"
      ]
     },
     "execution_count": 5,
     "metadata": {},
     "output_type": "execute_result"
    }
   ],
   "source": [
    "a= 'Hello, world!'\n",
    "a[3:]\n"
   ]
  },
  {
   "cell_type": "code",
   "execution_count": null,
   "id": "87b4058b",
   "metadata": {},
   "outputs": [],
   "source": [
    "7. What are the values of the following expressions?\n",
    "'Hello'.upper() = 'HELLO'\n",
    "'Hello'.upper().isupper() = False\n",
    "'Hello'.upper().lower() = hello"
   ]
  },
  {
   "cell_type": "code",
   "execution_count": 20,
   "id": "b25f130e",
   "metadata": {},
   "outputs": [
    {
     "data": {
      "text/plain": [
       "('Remember, remember, the fifth of July',\n",
       " ['T-h-e-r-e-', '-c-a-n-', '-o-n-l-y-', '-o-n-e'])"
      ]
     },
     "execution_count": 20,
     "metadata": {},
     "output_type": "execute_result"
    }
   ],
   "source": [
    "#8. What are the values of the following expressions?\n",
    "a = 'Remember, remember, the fifth of July'\n",
    "b = ('There can only one')\n",
    "a.split()\n",
    "c ='-'.join(b).split()\n",
    "\n",
    "a,c"
   ]
  },
  {
   "cell_type": "code",
   "execution_count": null,
   "id": "2a6c24e7",
   "metadata": {},
   "outputs": [],
   "source": [
    "9. What are the methods for right-justifying, left-justifying, and centering a string?\n",
    " - rjust(), ljust(), center() string method respectively"
   ]
  },
  {
   "cell_type": "code",
   "execution_count": null,
   "id": "8d59613d",
   "metadata": {},
   "outputs": [],
   "source": [
    "10. What is the best way to remove whitespace characters from the start or end?\n",
    "rstrip() and lstrip() methods remove whitespace characters from the right and left ends of a string respectively"
   ]
  },
  {
   "cell_type": "code",
   "execution_count": null,
   "id": "ac36d299",
   "metadata": {},
   "outputs": [],
   "source": []
  },
  {
   "cell_type": "code",
   "execution_count": null,
   "id": "caf5ce4b",
   "metadata": {},
   "outputs": [],
   "source": []
  }
 ],
 "metadata": {
  "kernelspec": {
   "display_name": "Python 3 (ipykernel)",
   "language": "python",
   "name": "python3"
  },
  "language_info": {
   "codemirror_mode": {
    "name": "ipython",
    "version": 3
   },
   "file_extension": ".py",
   "mimetype": "text/x-python",
   "name": "python",
   "nbconvert_exporter": "python",
   "pygments_lexer": "ipython3",
   "version": "3.9.7"
  }
 },
 "nbformat": 4,
 "nbformat_minor": 5
}
